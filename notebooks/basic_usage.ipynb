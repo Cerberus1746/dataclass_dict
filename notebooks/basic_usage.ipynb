{
 "cells": [
  {
   "cell_type": "code",
   "execution_count": 3,
   "metadata": {},
   "outputs": [],
   "source": [
    "from inspect import signature\n",
    "from dataclasses import InitVar, field\n",
    "from typing import Optional, Dict, Any\n",
    "\n",
    "from dataclass_dict import DataclassDict"
   ]
  },
  {
   "cell_type": "code",
   "execution_count": 5,
   "metadata": {},
   "outputs": [],
   "source": [
    "class BaseDictWithPost(DataclassDict):\n",
    "    name: str\n",
    "    cur_value: int\n",
    "    auto_value: Optional[int] = field(init=False)\n",
    "    to_set: InitVar[int] = field(repr=True)\n",
    "\n",
    "    def __post_init__(self, to_set):\n",
    "        self.auto_value = self.cur_value + self.cur_value\n",
    "        self.to_set = to_set"
   ]
  },
  {
   "cell_type": "code",
   "execution_count": 9,
   "metadata": {},
   "outputs": [
    {
     "name": "stdout",
     "output_type": "stream",
     "text": [
      "BaseDictWithPost(name='testing', cur_value=10, auto_value=20)\n",
      "10\n"
     ]
    }
   ],
   "source": [
    "instance = BaseDictWithPost(name=\"testing\", cur_value=10, to_set=10)\n",
    "print(instance)\n",
    "print(instance.to_set)"
   ]
  }
 ],
 "metadata": {
  "kernelspec": {
   "display_name": "Python 3",
   "language": "python",
   "name": "python3"
  },
  "language_info": {
   "codemirror_mode": {
    "name": "ipython",
    "version": 3
   },
   "file_extension": ".py",
   "mimetype": "text/x-python",
   "name": "python",
   "nbconvert_exporter": "python",
   "pygments_lexer": "ipython3",
   "version": "3.7.3"
  }
 },
 "nbformat": 4,
 "nbformat_minor": 4
}
